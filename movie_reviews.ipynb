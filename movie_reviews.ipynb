{
 "cells": [
  {
   "cell_type": "markdown",
   "metadata": {
    "collapsed": true,
    "pycharm": {
     "name": "#%% md\n"
    }
   },
   "source": [
    "## data: https://www.kaggle.com/nltkdata/movie-review\n",
    "\n",
    "## Imports"
   ]
  },
  {
   "cell_type": "code",
   "execution_count": 1,
   "outputs": [],
   "source": [
    "import numpy as np\n",
    "import pandas as pd\n",
    "import matplotlib.pyplot as plt\n",
    "\n",
    "import seaborn as sns\n",
    "\n",
    "from sklearn.model_selection import train_test_split\n",
    "\n",
    "\n",
    "from sklearn.metrics import accuracy_score\n",
    "from sklearn.metrics import classification_report\n",
    "from sklearn.metrics import confusion_matrix\n",
    "\n",
    "from sklearn.naive_bayes import GaussianNB\n",
    "from sklearn.naive_bayes import MultinomialNB\n",
    "from sklearn.ensemble import RandomForestClassifier # Our models.\n",
    "\n",
    "from tensorflow.keras.preprocessing.text import Tokenizer\n",
    "from tensorflow.keras.preprocessing.sequence import pad_sequences"
   ],
   "metadata": {
    "collapsed": false,
    "pycharm": {
     "name": "#%%\n"
    }
   }
  },
  {
   "cell_type": "markdown",
   "source": [
    "## Load Data"
   ],
   "metadata": {
    "collapsed": false,
    "pycharm": {
     "name": "#%% md\n"
    }
   }
  },
  {
   "cell_type": "code",
   "execution_count": 2,
   "outputs": [],
   "source": [
    "df = pd.read_csv(\"movie_review.csv\")\n"
   ],
   "metadata": {
    "collapsed": false,
    "pycharm": {
     "name": "#%%\n"
    }
   }
  },
  {
   "cell_type": "markdown",
   "source": [
    "## Exploring the data\n"
   ],
   "metadata": {
    "collapsed": false,
    "pycharm": {
     "name": "#%% md\n"
    }
   }
  },
  {
   "cell_type": "code",
   "execution_count": 3,
   "outputs": [
    {
     "data": {
      "text/plain": "   fold_id cv_tag  html_id  sent_id  \\\n0        0  cv000    29590        0   \n1        0  cv000    29590        1   \n2        0  cv000    29590        2   \n3        0  cv000    29590        3   \n4        0  cv000    29590        4   \n\n                                                text  tag  \n0  films adapted from comic books have had plenty...  pos  \n1  for starters , it was created by alan moore ( ...  pos  \n2  to say moore and campbell thoroughly researche...  pos  \n3  the book ( or \" graphic novel , \" if you will ...  pos  \n4  in other words , don't dismiss this film becau...  pos  ",
      "text/html": "<div>\n<style scoped>\n    .dataframe tbody tr th:only-of-type {\n        vertical-align: middle;\n    }\n\n    .dataframe tbody tr th {\n        vertical-align: top;\n    }\n\n    .dataframe thead th {\n        text-align: right;\n    }\n</style>\n<table border=\"1\" class=\"dataframe\">\n  <thead>\n    <tr style=\"text-align: right;\">\n      <th></th>\n      <th>fold_id</th>\n      <th>cv_tag</th>\n      <th>html_id</th>\n      <th>sent_id</th>\n      <th>text</th>\n      <th>tag</th>\n    </tr>\n  </thead>\n  <tbody>\n    <tr>\n      <th>0</th>\n      <td>0</td>\n      <td>cv000</td>\n      <td>29590</td>\n      <td>0</td>\n      <td>films adapted from comic books have had plenty...</td>\n      <td>pos</td>\n    </tr>\n    <tr>\n      <th>1</th>\n      <td>0</td>\n      <td>cv000</td>\n      <td>29590</td>\n      <td>1</td>\n      <td>for starters , it was created by alan moore ( ...</td>\n      <td>pos</td>\n    </tr>\n    <tr>\n      <th>2</th>\n      <td>0</td>\n      <td>cv000</td>\n      <td>29590</td>\n      <td>2</td>\n      <td>to say moore and campbell thoroughly researche...</td>\n      <td>pos</td>\n    </tr>\n    <tr>\n      <th>3</th>\n      <td>0</td>\n      <td>cv000</td>\n      <td>29590</td>\n      <td>3</td>\n      <td>the book ( or \" graphic novel , \" if you will ...</td>\n      <td>pos</td>\n    </tr>\n    <tr>\n      <th>4</th>\n      <td>0</td>\n      <td>cv000</td>\n      <td>29590</td>\n      <td>4</td>\n      <td>in other words , don't dismiss this film becau...</td>\n      <td>pos</td>\n    </tr>\n  </tbody>\n</table>\n</div>"
     },
     "execution_count": 3,
     "metadata": {},
     "output_type": "execute_result"
    }
   ],
   "source": [
    "df.head()\n"
   ],
   "metadata": {
    "collapsed": false,
    "pycharm": {
     "name": "#%%\n"
    }
   }
  },
  {
   "cell_type": "code",
   "execution_count": 4,
   "outputs": [
    {
     "data": {
      "text/plain": "fold_id    False\ncv_tag     False\nhtml_id    False\nsent_id    False\ntext       False\ntag        False\ndtype: bool"
     },
     "execution_count": 4,
     "metadata": {},
     "output_type": "execute_result"
    }
   ],
   "source": [
    "df.isna().any() # Checking for null values\n"
   ],
   "metadata": {
    "collapsed": false,
    "pycharm": {
     "name": "#%%\n"
    }
   }
  },
  {
   "cell_type": "code",
   "execution_count": 5,
   "outputs": [
    {
     "data": {
      "text/plain": "6    6917\n4    6681\n5    6615\n9    6611\n7    6594\n3    6379\n0    6323\n8    6220\n2    6201\n1    6179\nName: fold_id, dtype: int64"
     },
     "execution_count": 5,
     "metadata": {},
     "output_type": "execute_result"
    }
   ],
   "source": [
    "df.fold_id.value_counts()\n"
   ],
   "metadata": {
    "collapsed": false,
    "pycharm": {
     "name": "#%%\n"
    }
   }
  },
  {
   "cell_type": "code",
   "execution_count": 6,
   "outputs": [
    {
     "data": {
      "text/plain": "cv256    166\ncv501    153\ncv122    145\ncv638    144\ncv623    143\n        ... \ncv329     25\ncv825     25\ncv515     25\ncv114     24\ncv058     23\nName: cv_tag, Length: 1000, dtype: int64"
     },
     "execution_count": 6,
     "metadata": {},
     "output_type": "execute_result"
    }
   ],
   "source": [
    "df.cv_tag.value_counts()"
   ],
   "metadata": {
    "collapsed": false,
    "pycharm": {
     "name": "#%%\n"
    }
   }
  },
  {
   "cell_type": "markdown",
   "source": [
    "## Data Visualization"
   ],
   "metadata": {
    "collapsed": false,
    "pycharm": {
     "name": "#%% md\n"
    }
   }
  },
  {
   "cell_type": "code",
   "execution_count": 7,
   "outputs": [
    {
     "data": {
      "text/plain": "<BarContainer object of 2 artists>"
     },
     "execution_count": 7,
     "metadata": {},
     "output_type": "execute_result"
    },
    {
     "data": {
      "text/plain": "<Figure size 432x288 with 1 Axes>",
      "image/png": "[encoded data removed]"
     },
     "metadata": {
      "needs_background": "light"
     },
     "output_type": "display_data"
    }
   ],
   "source": [
    "pos_neg_count = df.tag.value_counts()\n",
    "\n",
    "plt.bar(df.tag.unique(), [pos_neg_count[0], pos_neg_count[1]])"
   ],
   "metadata": {
    "collapsed": false,
    "pycharm": {
     "name": "#%%\n"
    }
   }
  },
  {
   "cell_type": "code",
   "execution_count": 7,
   "outputs": [],
   "source": [],
   "metadata": {
    "collapsed": false,
    "pycharm": {
     "name": "#%%\n"
    }
   }
  },
  {
   "cell_type": "markdown",
   "source": [
    "## Data Preparation"
   ],
   "metadata": {
    "collapsed": false,
    "pycharm": {
     "name": "#%% md\n"
    }
   }
  },
  {
   "cell_type": "code",
   "execution_count": 8,
   "outputs": [
    {
     "data": {
      "text/plain": "fold_id     int64\ncv_tag     object\nhtml_id     int64\nsent_id     int64\ntext       object\ntag        object\ndtype: object"
     },
     "execution_count": 8,
     "metadata": {},
     "output_type": "execute_result"
    }
   ],
   "source": [
    "df.dtypes"
   ],
   "metadata": {
    "collapsed": false,
    "pycharm": {
     "name": "#%%\n"
    }
   }
  },
  {
   "cell_type": "code",
   "execution_count": 9,
   "outputs": [],
   "source": [
    "df = df.drop([\"fold_id\", \"cv_tag\", \"html_id\", \"sent_id\"], axis=1) # Dropping not necessary columns."
   ],
   "metadata": {
    "collapsed": false,
    "pycharm": {
     "name": "#%%\n"
    }
   }
  },
  {
   "cell_type": "code",
   "execution_count": 10,
   "outputs": [
    {
     "data": {
      "text/plain": "                                                    text  tag\n0      films adapted from comic books have had plenty...  pos\n1      for starters , it was created by alan moore ( ...  pos\n2      to say moore and campbell thoroughly researche...  pos\n3      the book ( or \" graphic novel , \" if you will ...  pos\n4      in other words , don't dismiss this film becau...  pos\n...                                                  ...  ...\n64715  that lack of inspiration can be traced back to...  neg\n64716  like too many of the skits on the current inca...  neg\n64717  after watching one of the \" roxbury \" skits on...  neg\n64718   bump unsuspecting women , and . . . that's all .  neg\n64719  after watching _a_night_at_the_roxbury_ , you'...  neg\n\n[64720 rows x 2 columns]",
      "text/html": "<div>\n<style scoped>\n    .dataframe tbody tr th:only-of-type {\n        vertical-align: middle;\n    }\n\n    .dataframe tbody tr th {\n        vertical-align: top;\n    }\n\n    .dataframe thead th {\n        text-align: right;\n    }\n</style>\n<table border=\"1\" class=\"dataframe\">\n  <thead>\n    <tr style=\"text-align: right;\">\n      <th></th>\n      <th>text</th>\n      <th>tag</th>\n    </tr>\n  </thead>\n  <tbody>\n    <tr>\n      <th>0</th>\n      <td>films adapted from comic books have had plenty...</td>\n      <td>pos</td>\n    </tr>\n    <tr>\n      <th>1</th>\n      <td>for starters , it was created by alan moore ( ...</td>\n      <td>pos</td>\n    </tr>\n    <tr>\n      <th>2</th>\n      <td>to say moore and campbell thoroughly researche...</td>\n      <td>pos</td>\n    </tr>\n    <tr>\n      <th>3</th>\n      <td>the book ( or \" graphic novel , \" if you will ...</td>\n      <td>pos</td>\n    </tr>\n    <tr>\n      <th>4</th>\n      <td>in other words , don't dismiss this film becau...</td>\n      <td>pos</td>\n    </tr>\n    <tr>\n      <th>...</th>\n      <td>...</td>\n      <td>...</td>\n    </tr>\n    <tr>\n      <th>64715</th>\n      <td>that lack of inspiration can be traced back to...</td>\n      <td>neg</td>\n    </tr>\n    <tr>\n      <th>64716</th>\n      <td>like too many of the skits on the current inca...</td>\n      <td>neg</td>\n    </tr>\n    <tr>\n      <th>64717</th>\n      <td>after watching one of the \" roxbury \" skits on...</td>\n      <td>neg</td>\n    </tr>\n    <tr>\n      <th>64718</th>\n      <td>bump unsuspecting women , and . . . that's all .</td>\n      <td>neg</td>\n    </tr>\n    <tr>\n      <th>64719</th>\n      <td>after watching _a_night_at_the_roxbury_ , you'...</td>\n      <td>neg</td>\n    </tr>\n  </tbody>\n</table>\n<p>64720 rows × 2 columns</p>\n</div>"
     },
     "execution_count": 10,
     "metadata": {},
     "output_type": "execute_result"
    }
   ],
   "source": [
    "df"
   ],
   "metadata": {
    "collapsed": false,
    "pycharm": {
     "name": "#%%\n"
    }
   }
  },
  {
   "cell_type": "code",
   "execution_count": 11,
   "outputs": [
    {
     "data": {
      "text/plain": "array([1, 0], dtype=int64)"
     },
     "execution_count": 11,
     "metadata": {},
     "output_type": "execute_result"
    }
   ],
   "source": [
    "POS = 1\n",
    "NEG = 0\n",
    "\n",
    "df.tag = df.tag.apply(lambda x: POS if x == \"pos\" else NEG)\n",
    "df.tag.unique() # Converting the column to numeric column"
   ],
   "metadata": {
    "collapsed": false,
    "pycharm": {
     "name": "#%%\n"
    }
   }
  },
  {
   "cell_type": "code",
   "execution_count": 12,
   "outputs": [
    {
     "data": {
      "text/plain": "                                                    text  tag\n0      films adapted from comic books have had plenty...    1\n1      for starters , it was created by alan moore ( ...    1\n2      to say moore and campbell thoroughly researche...    1\n3      the book ( or \" graphic novel , \" if you will ...    1\n4      in other words , don't dismiss this film becau...    1\n...                                                  ...  ...\n64715  that lack of inspiration can be traced back to...    0\n64716  like too many of the skits on the current inca...    0\n64717  after watching one of the \" roxbury \" skits on...    0\n64718   bump unsuspecting women , and . . . that's all .    0\n64719  after watching _a_night_at_the_roxbury_ , you'...    0\n\n[64720 rows x 2 columns]",
      "text/html": "<div>\n<style scoped>\n    .dataframe tbody tr th:only-of-type {\n        vertical-align: middle;\n    }\n\n    .dataframe tbody tr th {\n        vertical-align: top;\n    }\n\n    .dataframe thead th {\n        text-align: right;\n    }\n</style>\n<table border=\"1\" class=\"dataframe\">\n  <thead>\n    <tr style=\"text-align: right;\">\n      <th></th>\n      <th>text</th>\n      <th>tag</th>\n    </tr>\n  </thead>\n  <tbody>\n    <tr>\n      <th>0</th>\n      <td>films adapted from comic books have had plenty...</td>\n      <td>1</td>\n    </tr>\n    <tr>\n      <th>1</th>\n      <td>for starters , it was created by alan moore ( ...</td>\n      <td>1</td>\n    </tr>\n    <tr>\n      <th>2</th>\n      <td>to say moore and campbell thoroughly researche...</td>\n      <td>1</td>\n    </tr>\n    <tr>\n      <th>3</th>\n      <td>the book ( or \" graphic novel , \" if you will ...</td>\n      <td>1</td>\n    </tr>\n    <tr>\n      <th>4</th>\n      <td>in other words , don't dismiss this film becau...</td>\n      <td>1</td>\n    </tr>\n    <tr>\n      <th>...</th>\n      <td>...</td>\n      <td>...</td>\n    </tr>\n    <tr>\n      <th>64715</th>\n      <td>that lack of inspiration can be traced back to...</td>\n      <td>0</td>\n    </tr>\n    <tr>\n      <th>64716</th>\n      <td>like too many of the skits on the current inca...</td>\n      <td>0</td>\n    </tr>\n    <tr>\n      <th>64717</th>\n      <td>after watching one of the \" roxbury \" skits on...</td>\n      <td>0</td>\n    </tr>\n    <tr>\n      <th>64718</th>\n      <td>bump unsuspecting women , and . . . that's all .</td>\n      <td>0</td>\n    </tr>\n    <tr>\n      <th>64719</th>\n      <td>after watching _a_night_at_the_roxbury_ , you'...</td>\n      <td>0</td>\n    </tr>\n  </tbody>\n</table>\n<p>64720 rows × 2 columns</p>\n</div>"
     },
     "execution_count": 12,
     "metadata": {},
     "output_type": "execute_result"
    }
   ],
   "source": [
    "df"
   ],
   "metadata": {
    "collapsed": false,
    "pycharm": {
     "name": "#%%\n"
    }
   }
  },
  {
   "cell_type": "code",
   "execution_count": 13,
   "outputs": [],
   "source": [
    "X = df.text\n",
    "y = df.tag"
   ],
   "metadata": {
    "collapsed": false,
    "pycharm": {
     "name": "#%%\n"
    }
   }
  },
  {
   "cell_type": "code",
   "execution_count": 14,
   "outputs": [],
   "source": [
    "X_train, X_test, y_train, y_test = train_test_split(X, y, test_size=0.3)\n"
   ],
   "metadata": {
    "collapsed": false,
    "pycharm": {
     "name": "#%%\n"
    }
   }
  },
  {
   "cell_type": "code",
   "execution_count": 15,
   "outputs": [],
   "source": [
    "train_tokenizer = Tokenizer()\n",
    "train_tokenizer.fit_on_texts(X_train)"
   ],
   "metadata": {
    "collapsed": false,
    "pycharm": {
     "name": "#%%\n"
    }
   }
  },
  {
   "cell_type": "code",
   "execution_count": 16,
   "outputs": [
    {
     "data": {
      "text/plain": "[[3346,\n  6,\n  538,\n  1188,\n  2,\n  2667,\n  4518,\n  27,\n  160,\n  1101,\n  10853,\n  2073,\n  3,\n  278,\n  53,\n  1,\n  1524,\n  1203],\n [18,\n  68,\n  4519,\n  5,\n  184,\n  9,\n  4520,\n  10,\n  218,\n  10,\n  1,\n  5795,\n  12,\n  178,\n  1136,\n  3,\n  23068,\n  10,\n  109,\n  4,\n  1,\n  202],\n [3,\n  1,\n  3685,\n  671,\n  21,\n  23069,\n  3,\n  1740,\n  14403,\n  6,\n  24,\n  4,\n  1,\n  65,\n  3347,\n  14404,\n  4,\n  1,\n  171,\n  1179,\n  182]]"
     },
     "execution_count": 16,
     "metadata": {},
     "output_type": "execute_result"
    }
   ],
   "source": [
    "X_train = train_tokenizer.texts_to_sequences(X_train)\n",
    "X_train[:3]"
   ],
   "metadata": {
    "collapsed": false,
    "pycharm": {
     "name": "#%%\n"
    }
   }
  },
  {
   "cell_type": "code",
   "execution_count": 17,
   "outputs": [
    {
     "data": {
      "text/plain": "array([[    0,     0,     0,     0,     0,     0,     0,     0,     0,\n            0,     0,     0,     0,     0,     0,     0,     0,     0,\n            0,     0,     0,     0,     0,     0,     0,     0,     0,\n            0,     0,     0,     0,     0,     0,     0,     0,     0,\n            0,     0,     0,     0,     0,     0,     0,     0,     0,\n            0,     0,     0,     0,     0,     0,     0,     0,     0,\n            0,     0,     0,     0,     0,     0,     0,     0,     0,\n            0,     0,     0,     0,     0,     0,     0,     0,     0,\n            0,     0,     0,     0,     0,     0,     0,     0,     0,\n            0,     0,     0,     0,     0,     0,     0,     0,     0,\n            0,     0,     0,     0,     0,     0,     0,     0,     0,\n            0,     0,     0,     0,     0,     0,     0,     0,     0,\n            0,     0,     0,     0,     0,     0,     0,     0,     0,\n            0,     0,     0,     0,     0,     0,     0,     0,     0,\n            0,     0,     0,     0,     0,     0,     0,     0,  3346,\n            6,   538,  1188,     2,  2667,  4518,    27,   160,  1101,\n        10853,  2073,     3,   278,    53,     1,  1524,  1203],\n       [    0,     0,     0,     0,     0,     0,     0,     0,     0,\n            0,     0,     0,     0,     0,     0,     0,     0,     0,\n            0,     0,     0,     0,     0,     0,     0,     0,     0,\n            0,     0,     0,     0,     0,     0,     0,     0,     0,\n            0,     0,     0,     0,     0,     0,     0,     0,     0,\n            0,     0,     0,     0,     0,     0,     0,     0,     0,\n            0,     0,     0,     0,     0,     0,     0,     0,     0,\n            0,     0,     0,     0,     0,     0,     0,     0,     0,\n            0,     0,     0,     0,     0,     0,     0,     0,     0,\n            0,     0,     0,     0,     0,     0,     0,     0,     0,\n            0,     0,     0,     0,     0,     0,     0,     0,     0,\n            0,     0,     0,     0,     0,     0,     0,     0,     0,\n            0,     0,     0,     0,     0,     0,     0,     0,     0,\n            0,     0,     0,     0,     0,     0,     0,     0,     0,\n            0,     0,     0,     0,    18,    68,  4519,     5,   184,\n            9,  4520,    10,   218,    10,     1,  5795,    12,   178,\n         1136,     3, 23068,    10,   109,     4,     1,   202],\n       [    0,     0,     0,     0,     0,     0,     0,     0,     0,\n            0,     0,     0,     0,     0,     0,     0,     0,     0,\n            0,     0,     0,     0,     0,     0,     0,     0,     0,\n            0,     0,     0,     0,     0,     0,     0,     0,     0,\n            0,     0,     0,     0,     0,     0,     0,     0,     0,\n            0,     0,     0,     0,     0,     0,     0,     0,     0,\n            0,     0,     0,     0,     0,     0,     0,     0,     0,\n            0,     0,     0,     0,     0,     0,     0,     0,     0,\n            0,     0,     0,     0,     0,     0,     0,     0,     0,\n            0,     0,     0,     0,     0,     0,     0,     0,     0,\n            0,     0,     0,     0,     0,     0,     0,     0,     0,\n            0,     0,     0,     0,     0,     0,     0,     0,     0,\n            0,     0,     0,     0,     0,     0,     0,     0,     0,\n            0,     0,     0,     0,     0,     0,     0,     0,     0,\n            0,     0,     0,     0,     0,     3,     1,  3685,   671,\n           21, 23069,     3,  1740, 14403,     6,    24,     4,     1,\n           65,  3347, 14404,     4,     1,   171,  1179,   182]])"
     },
     "execution_count": 17,
     "metadata": {},
     "output_type": "execute_result"
    }
   ],
   "source": [
    "X_train_padded = pad_sequences(X_train) # Pad all the elements in X_train to make them all with the same shape\n",
    "X_train_padded[:3]"
   ],
   "metadata": {
    "collapsed": false,
    "pycharm": {
     "name": "#%%\n"
    }
   }
  },
  {
   "cell_type": "code",
   "execution_count": 18,
   "outputs": [],
   "source": [
    "test_tokenizer = Tokenizer()\n",
    "test_tokenizer.fit_on_texts(X_test)"
   ],
   "metadata": {
    "collapsed": false,
    "pycharm": {
     "name": "#%%\n"
    }
   }
  },
  {
   "cell_type": "code",
   "execution_count": 19,
   "outputs": [
    {
     "data": {
      "text/plain": "[[180, 123, 770, 4278, 43, 8438, 226, 82, 5, 805, 7, 14, 305, 2748],\n [3, 99, 54, 6, 10629, 8439, 5334, 2, 3340, 5, 1, 114],\n [18,\n  6,\n  2,\n  115,\n  27,\n  33,\n  10630,\n  5,\n  1,\n  271,\n  4,\n  14,\n  5335,\n  22,\n  14697,\n  29,\n  82,\n  14698,\n  14,\n  1348,\n  14699,\n  1485]]"
     },
     "execution_count": 19,
     "metadata": {},
     "output_type": "execute_result"
    }
   ],
   "source": [
    "X_test = test_tokenizer.texts_to_sequences(X_test)\n",
    "X_test[:3]"
   ],
   "metadata": {
    "collapsed": false,
    "pycharm": {
     "name": "#%%\n"
    }
   }
  },
  {
   "cell_type": "code",
   "execution_count": 20,
   "outputs": [
    {
     "data": {
      "text/plain": "array([[    0,     0,     0,     0,     0,     0,     0,     0,     0,\n            0,     0,     0,     0,     0,     0,     0,     0,     0,\n            0,     0,     0,     0,     0,     0,     0,     0,     0,\n            0,     0,     0,     0,     0,     0,     0,     0,     0,\n            0,     0,     0,     0,     0,     0,     0,     0,     0,\n            0,     0,     0,     0,     0,     0,     0,     0,     0,\n            0,     0,     0,     0,     0,     0,     0,     0,     0,\n            0,     0,     0,     0,     0,     0,     0,     0,     0,\n            0,     0,     0,     0,     0,     0,     0,     0,     0,\n            0,     0,     0,     0,     0,     0,     0,     0,     0,\n            0,     0,     0,     0,     0,     0,     0,     0,     0,\n            0,     0,     0,     0,     0,     0,     0,     0,     0,\n            0,     0,     0,     0,     0,     0,     0,     0,     0,\n            0,     0,     0,     0,     0,     0,     0,     0,     0,\n            0,     0,     0,     0,     0,     0,     0,     0,     0,\n            0,     0,     0,   180,   123,   770,  4278,    43,  8438,\n          226,    82,     5,   805,     7,    14,   305,  2748],\n       [    0,     0,     0,     0,     0,     0,     0,     0,     0,\n            0,     0,     0,     0,     0,     0,     0,     0,     0,\n            0,     0,     0,     0,     0,     0,     0,     0,     0,\n            0,     0,     0,     0,     0,     0,     0,     0,     0,\n            0,     0,     0,     0,     0,     0,     0,     0,     0,\n            0,     0,     0,     0,     0,     0,     0,     0,     0,\n            0,     0,     0,     0,     0,     0,     0,     0,     0,\n            0,     0,     0,     0,     0,     0,     0,     0,     0,\n            0,     0,     0,     0,     0,     0,     0,     0,     0,\n            0,     0,     0,     0,     0,     0,     0,     0,     0,\n            0,     0,     0,     0,     0,     0,     0,     0,     0,\n            0,     0,     0,     0,     0,     0,     0,     0,     0,\n            0,     0,     0,     0,     0,     0,     0,     0,     0,\n            0,     0,     0,     0,     0,     0,     0,     0,     0,\n            0,     0,     0,     0,     0,     0,     0,     0,     0,\n            0,     0,     0,     0,     0,     3,    99,    54,     6,\n        10629,  8439,  5334,     2,  3340,     5,     1,   114],\n       [    0,     0,     0,     0,     0,     0,     0,     0,     0,\n            0,     0,     0,     0,     0,     0,     0,     0,     0,\n            0,     0,     0,     0,     0,     0,     0,     0,     0,\n            0,     0,     0,     0,     0,     0,     0,     0,     0,\n            0,     0,     0,     0,     0,     0,     0,     0,     0,\n            0,     0,     0,     0,     0,     0,     0,     0,     0,\n            0,     0,     0,     0,     0,     0,     0,     0,     0,\n            0,     0,     0,     0,     0,     0,     0,     0,     0,\n            0,     0,     0,     0,     0,     0,     0,     0,     0,\n            0,     0,     0,     0,     0,     0,     0,     0,     0,\n            0,     0,     0,     0,     0,     0,     0,     0,     0,\n            0,     0,     0,     0,     0,     0,     0,     0,     0,\n            0,     0,     0,     0,     0,     0,     0,     0,     0,\n            0,     0,     0,     0,     0,     0,     0,     0,     0,\n            0,     0,     0,     0,    18,     6,     2,   115,    27,\n           33, 10630,     5,     1,   271,     4,    14,  5335,    22,\n        14697,    29,    82, 14698,    14,  1348, 14699,  1485]])"
     },
     "execution_count": 20,
     "metadata": {},
     "output_type": "execute_result"
    }
   ],
   "source": [
    "X_test_padded = pad_sequences(X_test, maxlen=X_train_padded.shape[1]) # Pad all the elements in X_train to make them all with the same shape\n",
    "X_test_padded[:3]"
   ],
   "metadata": {
    "collapsed": false,
    "pycharm": {
     "name": "#%%\n"
    }
   }
  },
  {
   "cell_type": "markdown",
   "source": [
    "## Now the data is ready, and we can proceed to the machine learning part."
   ],
   "metadata": {
    "collapsed": false,
    "pycharm": {
     "name": "#%% md\n"
    }
   }
  },
  {
   "cell_type": "code",
   "execution_count": 21,
   "outputs": [],
   "source": [
    "models = [\n",
    "    dict(model_name=\"GaussianNB\", model=GaussianNB()),\n",
    "    dict(model_name=\"MultinomialNB\", model=MultinomialNB()),\n",
    "    dict(model_name=\"RandomForestClassifier\", model=RandomForestClassifier()),\n",
    "\n",
    "]"
   ],
   "metadata": {
    "collapsed": false,
    "pycharm": {
     "name": "#%%\n"
    }
   }
  },
  {
   "cell_type": "code",
   "execution_count": 23,
   "outputs": [
    {
     "data": {
      "text/plain": "<Figure size 432x288 with 2 Axes>",
      "image/png": "[encoded data removed]"
     },
     "metadata": {
      "needs_background": "light"
     },
     "output_type": "display_data"
    },
    {
     "data": {
      "text/plain": "<Figure size 432x288 with 2 Axes>",
      "image/png": "[encoded data removed]"
     },
     "metadata": {
      "needs_background": "light"
     },
     "output_type": "display_data"
    },
    {
     "data": {
      "text/plain": "<Figure size 432x288 with 2 Axes>",
      "image/png": "[encoded data removed]"
     },
     "metadata": {
      "needs_background": "light"
     },
     "output_type": "display_data"
    }
   ],
   "source": [
    "models_scores = []\n",
    "\n",
    "for item in models:\n",
    "    model = item[\"model\"]\n",
    "    model.fit(X_train_padded, y_train)\n",
    "    y_predicted = model.predict(X_test_padded)\n",
    "\n",
    "    models_scores.append(accuracy_score(y_test, y_predicted))\n",
    "\n",
    "    plt.title(item[\"model_name\"] + \" accuracy\")\n",
    "    plt.xlabel(\"y_test\")\n",
    "    plt.ylabel(\"y_predicted\")\n",
    "\n",
    "    cm = confusion_matrix(y_test, y_predicted)\n",
    "\n",
    "    sns.heatmap(cm, annot=True, fmt='d')\n",
    "    plt.show()"
   ],
   "metadata": {
    "collapsed": false,
    "pycharm": {
     "name": "#%%\n"
    }
   }
  },
  {
   "cell_type": "code",
   "execution_count": 24,
   "outputs": [
    {
     "data": {
      "text/plain": "[0.5088586732591677, 0.5222496909765142, 0.5258549649773383]"
     },
     "execution_count": 24,
     "metadata": {},
     "output_type": "execute_result"
    }
   ],
   "source": [
    "models_scores"
   ],
   "metadata": {
    "collapsed": false,
    "pycharm": {
     "name": "#%%\n"
    }
   }
  },
  {
   "cell_type": "code",
   "execution_count": 25,
   "outputs": [
    {
     "data": {
      "text/plain": "{'model_name': 'RandomForestClassifier', 'model': RandomForestClassifier()}"
     },
     "execution_count": 25,
     "metadata": {},
     "output_type": "execute_result"
    }
   ],
   "source": [
    "models_scores = np.array(models_scores)\n",
    "best_model_index = np.argmax(models_scores)\n",
    "\n",
    "models[best_model_index]\n",
    "\n",
    "\n"
   ],
   "metadata": {
    "collapsed": false,
    "pycharm": {
     "name": "#%%\n"
    }
   }
  }
 ],
 "metadata": {
  "kernelspec": {
   "display_name": "Python 3",
   "language": "python",
   "name": "python3"
  },
  "language_info": {
   "codemirror_mode": {
    "name": "ipython",
    "version": 3
   },
   "file_extension": ".py",
   "mimetype": "text/x-python",
   "name": "python",
   "nbconvert_exporter": "python",
   "pygments_lexer": "ipython3",
   "version": "3.8.3"
  }
 },
 "nbformat": 4,
 "nbformat_minor": 1
}